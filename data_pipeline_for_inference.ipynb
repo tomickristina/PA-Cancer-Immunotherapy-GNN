{
 "cells": [
  {
   "cell_type": "code",
   "execution_count": null,
   "id": "b310b3b2-bd8b-41a6-b598-6ef123209ce2",
   "metadata": {},
   "outputs": [],
   "source": []
  },
  {
   "cell_type": "code",
   "execution_count": 2,
   "id": "848c5500-e63b-4441-b867-d1841bfcdd16",
   "metadata": {},
   "outputs": [],
   "source": [
    "import pandas as pd\n",
    "from sklearn.model_selection import KFold\n",
    "import pickle\n",
    "from tcrpeg.TCRpeg import TCRpeg\n"
   ]
  },
  {
   "cell_type": "code",
   "execution_count": 3,
   "id": "d3666710-fab2-4c4c-a125-48f64eb4e83f",
   "metadata": {},
   "outputs": [
    {
     "name": "stdout",
     "output_type": "stream",
     "text": [
      "Processing data_for_inference/allele/beta/test.tsv\n",
      "Satarting length=  59798\n",
      "Length after removing CDR3.beta len > 30 =  59798\n",
      "Length after removing Epitope len > 30 =  59455\n",
      "Have loaded the data, total training seqs : 59455\n",
      "Unmapped characters: []\n",
      "Saved fold 0 as allele_fold_0.csv in processed_data/PA/allele_fold_0.csv\n",
      "Saved fold 1 as allele_fold_1.csv in processed_data/PA/allele_fold_1.csv\n",
      "Saved fold 2 as allele_fold_2.csv in processed_data/PA/allele_fold_2.csv\n",
      "Saved fold 3 as allele_fold_3.csv in processed_data/PA/allele_fold_3.csv\n",
      "Saved fold 4 as allele_fold_4.csv in processed_data/PA/allele_fold_4.csv\n",
      "Processing data_for_inference/gene/beta/test.tsv\n",
      "Satarting length=  53858\n",
      "Length after removing CDR3.beta len > 30 =  53858\n",
      "Length after removing Epitope len > 30 =  53484\n",
      "Have loaded the data, total training seqs : 53484\n",
      "Unmapped characters: []\n",
      "Saved fold 0 as gene_fold_0.csv in processed_data/PA/gene_fold_0.csv\n",
      "Saved fold 1 as gene_fold_1.csv in processed_data/PA/gene_fold_1.csv\n",
      "Saved fold 2 as gene_fold_2.csv in processed_data/PA/gene_fold_2.csv\n",
      "Saved fold 3 as gene_fold_3.csv in processed_data/PA/gene_fold_3.csv\n",
      "Saved fold 4 as gene_fold_4.csv in processed_data/PA/gene_fold_4.csv\n"
     ]
    }
   ],
   "source": [
    "# Create 5 Folds each from the allele and gene data from the PA-Transformers project. \n",
    "# IMPORTANT: Here we only used the test.tsv\n",
    "\n",
    "# File paths\n",
    "file_paths = [\n",
    "    \"data_for_inference/allele/beta/test.tsv\",\n",
    "    \"data_for_inference/gene/beta/test.tsv\"\n",
    "]\n",
    "precisions = ['allele', 'gene']\n",
    "\n",
    "# Load, process, and split each file\n",
    "for i, file_path in enumerate(file_paths):\n",
    "    print(f\"Processing {file_path}\")\n",
    "    \n",
    "    # 1. Load the .tsv file\n",
    "    df = pd.read_csv(file_path, sep='\\t')\n",
    "    \n",
    "    # 2. Delete specific columns (replace 'column_to_delete' with actual column names)\n",
    "    columns_to_delete = ['TCR_name', 'TRBV', 'TRBJ', 'TRBC', 'MHC', 'task']\n",
    "    df.drop(columns=columns_to_delete, inplace=True, errors='ignore')\n",
    "    \n",
    "    # 3. Rename columns (replace with actual mappings)\n",
    "    columns_to_rename = {\n",
    "        'TRB_CDR3': 'CDR3.beta',\n",
    "        'Binding': 'Label'\n",
    "    }\n",
    "    df.rename(columns=columns_to_rename, inplace=True)\n",
    "\n",
    "    print('Satarting length= ', len(df))\n",
    "    df = df[df['CDR3.beta'].apply(len) <= 30] \n",
    "    print('Length after removing CDR3.beta len > 30 = ', len(df))\n",
    "    df = df[df['Epitope'].apply(len) <= 30] \n",
    "    print('Length after removing Epitope len > 30 = ', len(df))\n",
    "\n",
    "    unique_chars = set(''.join(df['CDR3.beta']))  # Replace 'sequence_column' with your actual column name\n",
    "    # print(\"Unique characters in sequences:\", unique_chars)\n",
    "    \n",
    "    df_train = df['CDR3.beta'].values\n",
    "    #create the TCRpeg class\n",
    "    model = TCRpeg(hidden_size=64,num_layers = 3,load_data=True,embedding_path='pa_embeddings/TCRpeg/tcrpeg/data/embedding_32.txt',path_train=df_train)\n",
    "    #create the TCRpeg model. \n",
    "    model.create_model()\n",
    "    \n",
    "    unmapped_chars = [ch for ch in unique_chars if ch not in model.aa2idx]\n",
    "    print(\"Unmapped characters:\", unmapped_chars)\n",
    "    if unmapped_chars:\n",
    "        \n",
    "        # Create a regex pattern to match any of these characters\n",
    "        pattern = f\"[{''.join(unmapped_chars)}]\"\n",
    "        \n",
    "        # Remove rows with any of the unmapped characters in 'CDR3.beta' column\n",
    "        df = df[~df['CDR3.beta'].str.contains(pattern)]\n",
    "        print('Length after removing unmapped chars= ', len(df))\n",
    "    \n",
    "    \n",
    "    # 5. Generate 5 folds for cross-validation and save them in 'processed_data'\n",
    "    kf = KFold(n_splits=5, shuffle=True, random_state=42)\n",
    "    # Loop through each fold and save it as a separate file\n",
    "    for fold, (_, fold_index) in enumerate(kf.split(df)):\n",
    "        fold_data = df.iloc[fold_index]\n",
    "        path_save_fold = f\"processed_data/PA/{precisions[i]}_fold_{fold}.csv\"\n",
    "        fold_data.to_csv(path_save_fold, index=False)  # Saves each fold\n",
    "        print(f\"Saved fold {fold} as {precisions[i]}_fold_{fold}.csv in {path_save_fold}\")\n",
    "\n"
   ]
  },
  {
   "cell_type": "code",
   "execution_count": null,
   "id": "7e11539f-dfc6-4528-8f21-b13156be0ab3",
   "metadata": {},
   "outputs": [],
   "source": [
    "# run the inference_pa.py"
   ]
  },
  {
   "cell_type": "code",
   "execution_count": 4,
   "id": "9e36fd38-2cc8-497f-84b3-af3730adb75a",
   "metadata": {},
   "outputs": [
    {
     "name": "stdout",
     "output_type": "stream",
     "text": [
      "You chose the dataset: pMTnet\n",
      "The split method is: StrictTCR\n",
      "/home/ubuntu/PA-Cancer-Immunotherapy/GNN/inference_pa.py:152: FutureWarning: You are using `torch.load` with `weights_only=False` (the current default value), which uses the default pickle module implicitly. It is possible to construct malicious pickle data which will execute arbitrary code during unpickling (See https://github.com/pytorch/pytorch/blob/main/SECURITY.md#untrusted-models for more details). In a future release, the default value for `weights_only` will be flipped to `True`. This limits the functions that could be executed during unpickling. Arbitrary objects will no longer be allowed to be loaded via this mode unless they are explicitly allowlisted by the user via `torch.serialization.add_safe_globals`. We recommend you start setting `weights_only=True` for any use case where you don't have full control of the loaded file. Please open an issue on GitHub for any issues related to this experimental feature.\n",
      "  GTE.load_state_dict(torch.load(model_path, map_location=device))\n",
      "Fold: 0, AUC: 0.5352, AUPR: 0.5254\n",
      "/home/ubuntu/PA-Cancer-Immunotherapy/GNN/inference_pa.py:152: FutureWarning: You are using `torch.load` with `weights_only=False` (the current default value), which uses the default pickle module implicitly. It is possible to construct malicious pickle data which will execute arbitrary code during unpickling (See https://github.com/pytorch/pytorch/blob/main/SECURITY.md#untrusted-models for more details). In a future release, the default value for `weights_only` will be flipped to `True`. This limits the functions that could be executed during unpickling. Arbitrary objects will no longer be allowed to be loaded via this mode unless they are explicitly allowlisted by the user via `torch.serialization.add_safe_globals`. We recommend you start setting `weights_only=True` for any use case where you don't have full control of the loaded file. Please open an issue on GitHub for any issues related to this experimental feature.\n",
      "  GTE.load_state_dict(torch.load(model_path, map_location=device))\n",
      "Fold: 1, AUC: 0.5269, AUPR: 0.5273\n",
      "/home/ubuntu/PA-Cancer-Immunotherapy/GNN/inference_pa.py:152: FutureWarning: You are using `torch.load` with `weights_only=False` (the current default value), which uses the default pickle module implicitly. It is possible to construct malicious pickle data which will execute arbitrary code during unpickling (See https://github.com/pytorch/pytorch/blob/main/SECURITY.md#untrusted-models for more details). In a future release, the default value for `weights_only` will be flipped to `True`. This limits the functions that could be executed during unpickling. Arbitrary objects will no longer be allowed to be loaded via this mode unless they are explicitly allowlisted by the user via `torch.serialization.add_safe_globals`. We recommend you start setting `weights_only=True` for any use case where you don't have full control of the loaded file. Please open an issue on GitHub for any issues related to this experimental feature.\n",
      "  GTE.load_state_dict(torch.load(model_path, map_location=device))\n",
      "Fold: 2, AUC: 0.5313, AUPR: 0.5199\n",
      "/home/ubuntu/PA-Cancer-Immunotherapy/GNN/inference_pa.py:152: FutureWarning: You are using `torch.load` with `weights_only=False` (the current default value), which uses the default pickle module implicitly. It is possible to construct malicious pickle data which will execute arbitrary code during unpickling (See https://github.com/pytorch/pytorch/blob/main/SECURITY.md#untrusted-models for more details). In a future release, the default value for `weights_only` will be flipped to `True`. This limits the functions that could be executed during unpickling. Arbitrary objects will no longer be allowed to be loaded via this mode unless they are explicitly allowlisted by the user via `torch.serialization.add_safe_globals`. We recommend you start setting `weights_only=True` for any use case where you don't have full control of the loaded file. Please open an issue on GitHub for any issues related to this experimental feature.\n",
      "  GTE.load_state_dict(torch.load(model_path, map_location=device))\n",
      "Fold: 3, AUC: 0.5399, AUPR: 0.5512\n",
      "/home/ubuntu/PA-Cancer-Immunotherapy/GNN/inference_pa.py:152: FutureWarning: You are using `torch.load` with `weights_only=False` (the current default value), which uses the default pickle module implicitly. It is possible to construct malicious pickle data which will execute arbitrary code during unpickling (See https://github.com/pytorch/pytorch/blob/main/SECURITY.md#untrusted-models for more details). In a future release, the default value for `weights_only` will be flipped to `True`. This limits the functions that could be executed during unpickling. Arbitrary objects will no longer be allowed to be loaded via this mode unless they are explicitly allowlisted by the user via `torch.serialization.add_safe_globals`. We recommend you start setting `weights_only=True` for any use case where you don't have full control of the loaded file. Please open an issue on GitHub for any issues related to this experimental feature.\n",
      "  GTE.load_state_dict(torch.load(model_path, map_location=device))\n",
      "Fold: 4, AUC: 0.5347, AUPR: 0.5587\n"
     ]
    }
   ],
   "source": [
    "# Inference with the respective folds of 'test.tsv'  ( file_path = f\"processed_data/PA/{precision}_fold_{i}.csv\" )\n",
    "# and the embedding_path = f\"models/PA/{precision}_embeddings.pkl\"\n",
    "! python inference_pa.py --split StrictTCR --dataset pMTnet --device gpu --gpu_id 0"
   ]
  },
  {
   "cell_type": "code",
   "execution_count": null,
   "id": "82618937-b919-4a14-aa49-6f7fb00ca822",
   "metadata": {},
   "outputs": [],
   "source": []
  },
  {
   "cell_type": "code",
   "execution_count": null,
   "id": "fffcb4b4-d4c4-48fc-9090-18e11c5e107b",
   "metadata": {},
   "outputs": [],
   "source": [
    "# Experiment: \n",
    "# Dataset: VDJdb  \n",
    "# Model: pMTnet   model_path = f\"models/{fixed_model}/{split}/{fixed_model}_{train_folds}_{i}.pth\"\n",
    "# "
   ]
  },
  {
   "cell_type": "code",
   "execution_count": 1,
   "id": "a86572de-7efe-47af-9636-f1949ded3a9b",
   "metadata": {},
   "outputs": [
    {
     "name": "stdout",
     "output_type": "stream",
     "text": [
      "You chose the dataset: VDJdb\n",
      "The split method is: StrictTCR\n",
      "/home/ubuntu/PA-Cancer-Immunotherapy/GNN/inference_experiment.py:153: FutureWarning: You are using `torch.load` with `weights_only=False` (the current default value), which uses the default pickle module implicitly. It is possible to construct malicious pickle data which will execute arbitrary code during unpickling (See https://github.com/pytorch/pytorch/blob/main/SECURITY.md#untrusted-models for more details). In a future release, the default value for `weights_only` will be flipped to `True`. This limits the functions that could be executed during unpickling. Arbitrary objects will no longer be allowed to be loaded via this mode unless they are explicitly allowlisted by the user via `torch.serialization.add_safe_globals`. We recommend you start setting `weights_only=True` for any use case where you don't have full control of the loaded file. Please open an issue on GitHub for any issues related to this experimental feature.\n",
      "  GTE.load_state_dict(torch.load(model_path, map_location=device))\n",
      "Fold: 0, AUC: 0.7412, AUPR: 0.3907\n",
      "/home/ubuntu/PA-Cancer-Immunotherapy/GNN/inference_experiment.py:153: FutureWarning: You are using `torch.load` with `weights_only=False` (the current default value), which uses the default pickle module implicitly. It is possible to construct malicious pickle data which will execute arbitrary code during unpickling (See https://github.com/pytorch/pytorch/blob/main/SECURITY.md#untrusted-models for more details). In a future release, the default value for `weights_only` will be flipped to `True`. This limits the functions that could be executed during unpickling. Arbitrary objects will no longer be allowed to be loaded via this mode unless they are explicitly allowlisted by the user via `torch.serialization.add_safe_globals`. We recommend you start setting `weights_only=True` for any use case where you don't have full control of the loaded file. Please open an issue on GitHub for any issues related to this experimental feature.\n",
      "  GTE.load_state_dict(torch.load(model_path, map_location=device))\n",
      "Fold: 1, AUC: 0.7615, AUPR: 0.4089\n",
      "/home/ubuntu/PA-Cancer-Immunotherapy/GNN/inference_experiment.py:153: FutureWarning: You are using `torch.load` with `weights_only=False` (the current default value), which uses the default pickle module implicitly. It is possible to construct malicious pickle data which will execute arbitrary code during unpickling (See https://github.com/pytorch/pytorch/blob/main/SECURITY.md#untrusted-models for more details). In a future release, the default value for `weights_only` will be flipped to `True`. This limits the functions that could be executed during unpickling. Arbitrary objects will no longer be allowed to be loaded via this mode unless they are explicitly allowlisted by the user via `torch.serialization.add_safe_globals`. We recommend you start setting `weights_only=True` for any use case where you don't have full control of the loaded file. Please open an issue on GitHub for any issues related to this experimental feature.\n",
      "  GTE.load_state_dict(torch.load(model_path, map_location=device))\n",
      "Fold: 2, AUC: 0.7099, AUPR: 0.3680\n",
      "/home/ubuntu/PA-Cancer-Immunotherapy/GNN/inference_experiment.py:153: FutureWarning: You are using `torch.load` with `weights_only=False` (the current default value), which uses the default pickle module implicitly. It is possible to construct malicious pickle data which will execute arbitrary code during unpickling (See https://github.com/pytorch/pytorch/blob/main/SECURITY.md#untrusted-models for more details). In a future release, the default value for `weights_only` will be flipped to `True`. This limits the functions that could be executed during unpickling. Arbitrary objects will no longer be allowed to be loaded via this mode unless they are explicitly allowlisted by the user via `torch.serialization.add_safe_globals`. We recommend you start setting `weights_only=True` for any use case where you don't have full control of the loaded file. Please open an issue on GitHub for any issues related to this experimental feature.\n",
      "  GTE.load_state_dict(torch.load(model_path, map_location=device))\n",
      "Fold: 3, AUC: 0.7498, AUPR: 0.4023\n",
      "/home/ubuntu/PA-Cancer-Immunotherapy/GNN/inference_experiment.py:153: FutureWarning: You are using `torch.load` with `weights_only=False` (the current default value), which uses the default pickle module implicitly. It is possible to construct malicious pickle data which will execute arbitrary code during unpickling (See https://github.com/pytorch/pytorch/blob/main/SECURITY.md#untrusted-models for more details). In a future release, the default value for `weights_only` will be flipped to `True`. This limits the functions that could be executed during unpickling. Arbitrary objects will no longer be allowed to be loaded via this mode unless they are explicitly allowlisted by the user via `torch.serialization.add_safe_globals`. We recommend you start setting `weights_only=True` for any use case where you don't have full control of the loaded file. Please open an issue on GitHub for any issues related to this experimental feature.\n",
      "  GTE.load_state_dict(torch.load(model_path, map_location=device))\n",
      "Fold: 4, AUC: 0.7521, AUPR: 0.4103\n"
     ]
    }
   ],
   "source": [
    "! python inference_experiment.py --split StrictTCR --dataset VDJdb --device gpu --gpu_id 0"
   ]
  },
  {
   "cell_type": "code",
   "execution_count": null,
   "id": "44bd02ca-0454-4c34-a11f-425a12a00848",
   "metadata": {},
   "outputs": [],
   "source": []
  },
  {
   "cell_type": "code",
   "execution_count": 2,
   "id": "0dabb11b-c3ec-43f8-9bc9-62d19ca08bad",
   "metadata": {},
   "outputs": [
    {
     "name": "stdout",
     "output_type": "stream",
     "text": [
      "PROJECT_NAME: dataset-inference_GNN\n",
      "\u001b[34m\u001b[1mwandb\u001b[0m: Using wandb-core as the SDK backend.  Please refer to https://wandb.me/wandb-core for more information.\n",
      "\u001b[34m\u001b[1mwandb\u001b[0m: Currently logged in as: \u001b[33mfrohoari\u001b[0m (\u001b[33mpa_cancerimmunotherapy\u001b[0m). Use \u001b[1m`wandb login --relogin`\u001b[0m to force relogin\n",
      "\u001b[34m\u001b[1mwandb\u001b[0m: Tracking run with wandb version 0.18.7\n",
      "\u001b[34m\u001b[1mwandb\u001b[0m: Run data is saved locally in \u001b[35m\u001b[1m/home/ubuntu/PA-Cancer-Immunotherapy/GNN/wandb/run-20241205_103656-ur4gvpur\u001b[0m\n",
      "\u001b[34m\u001b[1mwandb\u001b[0m: Run \u001b[1m`wandb offline`\u001b[0m to turn off syncing.\n",
      "\u001b[34m\u001b[1mwandb\u001b[0m: Syncing run \u001b[33mExperiment - GNN\u001b[0m\n",
      "\u001b[34m\u001b[1mwandb\u001b[0m: ⭐️ View project at \u001b[34m\u001b[4mhttps://wandb.ai/pa_cancerimmunotherapy/dataset-inference_GNN\u001b[0m\n",
      "\u001b[34m\u001b[1mwandb\u001b[0m: 🚀 View run at \u001b[34m\u001b[4mhttps://wandb.ai/pa_cancerimmunotherapy/dataset-inference_GNN/runs/ur4gvpur\u001b[0m\n",
      "torch.cuda.is_available:  True\n",
      "Processing file:  ./data_for_inference/allele/beta/test.tsv\n",
      "/home/ubuntu/PA-Cancer-Immunotherapy/GNN/inference_pa_one_model.py:211: FutureWarning: You are using `torch.load` with `weights_only=False` (the current default value), which uses the default pickle module implicitly. It is possible to construct malicious pickle data which will execute arbitrary code during unpickling (See https://github.com/pytorch/pytorch/blob/main/SECURITY.md#untrusted-models for more details). In a future release, the default value for `weights_only` will be flipped to `True`. This limits the functions that could be executed during unpickling. Arbitrary objects will no longer be allowed to be loaded via this mode unless they are explicitly allowlisted by the user via `torch.serialization.add_safe_globals`. We recommend you start setting `weights_only=True` for any use case where you don't have full control of the loaded file. Please open an issue on GitHub for any issues related to this experimental feature.\n",
      "  GTE.load_state_dict(torch.load(model_path, map_location=device))\n",
      "Fold: 4, AUC: 0.7559, AUPR: 0.7516\n",
      "Processing file:  ./data_for_inference/gene/beta/test.tsv\n",
      "/home/ubuntu/PA-Cancer-Immunotherapy/GNN/inference_pa_one_model.py:211: FutureWarning: You are using `torch.load` with `weights_only=False` (the current default value), which uses the default pickle module implicitly. It is possible to construct malicious pickle data which will execute arbitrary code during unpickling (See https://github.com/pytorch/pytorch/blob/main/SECURITY.md#untrusted-models for more details). In a future release, the default value for `weights_only` will be flipped to `True`. This limits the functions that could be executed during unpickling. Arbitrary objects will no longer be allowed to be loaded via this mode unless they are explicitly allowlisted by the user via `torch.serialization.add_safe_globals`. We recommend you start setting `weights_only=True` for any use case where you don't have full control of the loaded file. Please open an issue on GitHub for any issues related to this experimental feature.\n",
      "  GTE.load_state_dict(torch.load(model_path, map_location=device))\n",
      "Fold: 4, AUC: 0.8068, AUPR: 0.7973\n",
      "\u001b[34m\u001b[1mwandb\u001b[0m: 0.008 MB of 0.008 MB uploaded\n",
      "\u001b[34m\u001b[1mwandb\u001b[0m: 0.008 MB of 0.008 MB uploaded\n",
      "\u001b[34m\u001b[1mwandb\u001b[0m:                                                                                \n",
      "\u001b[34m\u001b[1mwandb\u001b[0m: 0.008 MB of 0.008 MB uploaded\n",
      "\u001b[34m\u001b[1mwandb\u001b[0m: \n",
      "\u001b[34m\u001b[1mwandb\u001b[0m: Run history:\n",
      "\u001b[34m\u001b[1mwandb\u001b[0m:        aupr_test ▁█\n",
      "\u001b[34m\u001b[1mwandb\u001b[0m: num_test_samples ▁▁\n",
      "\u001b[34m\u001b[1mwandb\u001b[0m:     roc_auc_test ▁█\n",
      "\u001b[34m\u001b[1mwandb\u001b[0m: \n",
      "\u001b[34m\u001b[1mwandb\u001b[0m: Run summary:\n",
      "\u001b[34m\u001b[1mwandb\u001b[0m:        aupr_test 0.79727\n",
      "\u001b[34m\u001b[1mwandb\u001b[0m: num_test_samples 4\n",
      "\u001b[34m\u001b[1mwandb\u001b[0m:        precision gene\n",
      "\u001b[34m\u001b[1mwandb\u001b[0m:     roc_auc_test 0.80681\n",
      "\u001b[34m\u001b[1mwandb\u001b[0m: \n",
      "\u001b[34m\u001b[1mwandb\u001b[0m: 🚀 View run \u001b[33mExperiment - GNN\u001b[0m at: \u001b[34m\u001b[4mhttps://wandb.ai/pa_cancerimmunotherapy/dataset-inference_GNN/runs/ur4gvpur\u001b[0m\n",
      "\u001b[34m\u001b[1mwandb\u001b[0m: ⭐️ View project at: \u001b[34m\u001b[4mhttps://wandb.ai/pa_cancerimmunotherapy/dataset-inference_GNN\u001b[0m\n",
      "\u001b[34m\u001b[1mwandb\u001b[0m: Synced 4 W&B file(s), 0 media file(s), 3 artifact file(s) and 0 other file(s)\n",
      "\u001b[34m\u001b[1mwandb\u001b[0m: Find logs at: \u001b[35m\u001b[1m./wandb/run-20241205_103656-ur4gvpur/logs\u001b[0m\n"
     ]
    }
   ],
   "source": [
    "# =============================================================================\n",
    "# Inference of Test data from BA (unseen) on the models gene and allele, those ones generated with train and validation data from BA aswell.\n",
    "# A file inference_pa_one_model will be adapted for this purpose\n",
    "\n",
    "! python inference_pa_one_model.py --device gpu --gpu_id 0"
   ]
  },
  {
   "cell_type": "code",
   "execution_count": null,
   "id": "1cd641d3-6c98-464c-9087-9c196a913d7a",
   "metadata": {},
   "outputs": [],
   "source": []
  },
  {
   "cell_type": "code",
   "execution_count": null,
   "id": "2a22e979-6988-46d4-8c4b-0a0d57925cb5",
   "metadata": {},
   "outputs": [],
   "source": []
  },
  {
   "cell_type": "code",
   "execution_count": null,
   "id": "2ee1a91b-53ae-4f1a-ae18-61f84c5ca194",
   "metadata": {},
   "outputs": [],
   "source": []
  }
 ],
 "metadata": {
  "kernelspec": {
   "display_name": "Python 3 (ipykernel)",
   "language": "python",
   "name": "python3"
  },
  "language_info": {
   "codemirror_mode": {
    "name": "ipython",
    "version": 3
   },
   "file_extension": ".py",
   "mimetype": "text/x-python",
   "name": "python",
   "nbconvert_exporter": "python",
   "pygments_lexer": "ipython3",
   "version": "3.11.10"
  }
 },
 "nbformat": 4,
 "nbformat_minor": 5
}
